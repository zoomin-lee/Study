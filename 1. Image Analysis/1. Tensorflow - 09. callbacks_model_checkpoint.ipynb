{
 "cells": [
  {
   "cell_type": "markdown",
   "metadata": {},
   "source": [
    "# TensorFlow 2.0"
   ]
  },
  {
   "cell_type": "code",
   "execution_count": 1,
   "metadata": {},
   "outputs": [],
   "source": [
    "import os\n",
    "from glob import glob\n",
    "from datetime import datetime\n",
    "\n",
    "import numpy as np\n",
    "\n",
    "import tensorflow as tf\n",
    "from tensorflow.keras import layers\n",
    "\n",
    "from tensorflow.keras import datasets \n",
    "\n",
    "import matplotlib.pyplot as plt\n",
    "\n",
    "%matplotlib inline"
   ]
  },
  {
   "cell_type": "markdown",
   "metadata": {},
   "source": [
    "## Hyperparameter Tunning"
   ]
  },
  {
   "cell_type": "code",
   "execution_count": 2,
   "metadata": {},
   "outputs": [],
   "source": [
    "num_epochs = 20\n",
    "batch_size = 32\n",
    "\n",
    "learning_rate = 0.001\n",
    "\n",
    "dropout_rate = 0.5\n",
    "\n",
    "input_shape = (32, 32, 3)\n",
    "num_classes = 10"
   ]
  },
  {
   "cell_type": "markdown",
   "metadata": {},
   "source": [
    "## Build Model"
   ]
  },
  {
   "cell_type": "code",
   "execution_count": 3,
   "metadata": {},
   "outputs": [],
   "source": [
    "inputs = layers.Input(input_shape)\n",
    "\n",
    "net = layers.Conv2D(32, (3, 3), padding='SAME')(inputs)\n",
    "net = layers.Activation('relu')(net)\n",
    "net = layers.Conv2D(32, (3, 3), padding='SAME')(net)\n",
    "net = layers.Activation('relu')(net)\n",
    "net = layers.MaxPooling2D(pool_size=(2, 2))(net)\n",
    "net = layers.Dropout(dropout_rate)(net)\n",
    "\n",
    "net = layers.Conv2D(64, (3, 3), padding='SAME')(net)\n",
    "net = layers.Activation('relu')(net)\n",
    "net = layers.Conv2D(64, (3, 3), padding='SAME')(net)\n",
    "net = layers.Activation('relu')(net)\n",
    "net = layers.MaxPooling2D(pool_size=(2, 2))(net)\n",
    "net = layers.Dropout(dropout_rate)(net)\n",
    "\n",
    "net = layers.Flatten()(net)\n",
    "net = layers.Dense(512)(net)\n",
    "net = layers.Activation('relu')(net)\n",
    "net = layers.Dropout(dropout_rate)(net)\n",
    "net = layers.Dense(num_classes)(net)\n",
    "net = layers.Activation('softmax')(net)\n",
    "\n",
    "model = tf.keras.Model(inputs=inputs, outputs=net, name='Basic_CNN')"
   ]
  },
  {
   "cell_type": "code",
   "execution_count": 4,
   "metadata": {},
   "outputs": [],
   "source": [
    "# Model is the full model w/o custom layers\n",
    "model.compile(optimizer=tf.keras.optimizers.Adam(learning_rate),  # Optimization\n",
    "              loss='sparse_categorical_crossentropy',  # Loss Function \n",
    "              metrics=['accuracy'])  # Metrics / Accuracy"
   ]
  },
  {
   "cell_type": "markdown",
   "metadata": {},
   "source": [
    "# Data Preprocess"
   ]
  },
  {
   "cell_type": "code",
   "execution_count": 5,
   "metadata": {},
   "outputs": [],
   "source": [
    "train_paths = glob('../dataset/cifar/train/*.png')[:1000]\n",
    "test_paths = glob('../dataset/cifar/test/*.png')[:1000]"
   ]
  },
  {
   "cell_type": "code",
   "execution_count": 6,
   "metadata": {},
   "outputs": [
    {
     "data": {
      "text/plain": [
       "1000"
      ]
     },
     "execution_count": 6,
     "metadata": {},
     "output_type": "execute_result"
    }
   ],
   "source": [
    "len(train_paths)"
   ]
  },
  {
   "cell_type": "code",
   "execution_count": 7,
   "metadata": {},
   "outputs": [],
   "source": [
    "def get_class_name(path):\n",
    "    return path.split('_')[-1].replace('.png', '')"
   ]
  },
  {
   "cell_type": "code",
   "execution_count": 8,
   "metadata": {},
   "outputs": [],
   "source": [
    "train_labels = [get_class_name(path) for path in train_paths]\n",
    "class_names = np.unique(train_labels)"
   ]
  },
  {
   "cell_type": "code",
   "execution_count": 9,
   "metadata": {},
   "outputs": [],
   "source": [
    "def get_label(path):\n",
    "    fname = tf.strings.split(path, '_')[-1]\n",
    "    lbl_name = tf.strings.regex_replace(fname, '.png', '')\n",
    "    onehot = tf.cast(lbl_name == class_names, tf.uint8)\n",
    "    return tf.argmax(onehot)  # 이번에는 onehot이 아닌 label 번호로"
   ]
  },
  {
   "cell_type": "code",
   "execution_count": 10,
   "metadata": {},
   "outputs": [],
   "source": [
    "def load_image_label(path):\n",
    "    gfile = tf.io.read_file(path)\n",
    "    image = tf.io.decode_image(gfile)\n",
    "    image = tf.cast(image, tf.float32) / 255.  # rescale\n",
    "    \n",
    "    label = get_label(path)\n",
    "    return image, label"
   ]
  },
  {
   "cell_type": "code",
   "execution_count": 11,
   "metadata": {},
   "outputs": [],
   "source": [
    "def image_preprocess(image, label):\n",
    "    image = tf.image.random_flip_up_down(image)\n",
    "    image = tf.image.random_flip_left_right(image)\n",
    "    return image, label"
   ]
  },
  {
   "cell_type": "code",
   "execution_count": 12,
   "metadata": {},
   "outputs": [],
   "source": [
    "AUTOTUNE = tf.data.experimental.AUTOTUNE"
   ]
  },
  {
   "cell_type": "code",
   "execution_count": 13,
   "metadata": {
    "scrolled": false
   },
   "outputs": [],
   "source": [
    "train_dataset = tf.data.Dataset.from_tensor_slices(train_paths)\n",
    "train_dataset = train_dataset.map(load_image_label, num_parallel_calls=AUTOTUNE)\n",
    "train_dataset = train_dataset.map(image_preprocess, num_parallel_calls=AUTOTUNE)\n",
    "train_dataset = train_dataset.batch(batch_size)\n",
    "train_dataset = train_dataset.shuffle(buffer_size=len(train_paths))\n",
    "train_dataset = train_dataset.repeat()"
   ]
  },
  {
   "cell_type": "code",
   "execution_count": 14,
   "metadata": {},
   "outputs": [],
   "source": [
    "test_dataset = tf.data.Dataset.from_tensor_slices(test_paths)\n",
    "test_dataset = test_dataset.map(load_image_label, num_parallel_calls=AUTOTUNE)\n",
    "test_dataset = test_dataset.batch(batch_size)\n",
    "test_dataset = test_dataset.repeat()"
   ]
  },
  {
   "cell_type": "markdown",
   "metadata": {},
   "source": [
    "# Checkpoint"
   ]
  },
  {
   "cell_type": "code",
   "execution_count": 15,
   "metadata": {},
   "outputs": [],
   "source": [
    "save_path = 'checkpoint'"
   ]
  },
  {
   "cell_type": "markdown",
   "metadata": {},
   "source": [
    "### val_accuracy 기준"
   ]
  },
  {
   "cell_type": "code",
   "execution_count": 16,
   "metadata": {},
   "outputs": [],
   "source": [
    "checkpoint = tf.keras.callbacks.ModelCheckpoint(save_path, monitor='val_accuracy', verbose=1, save_best_only=True, mode='max')"
   ]
  },
  {
   "cell_type": "markdown",
   "metadata": {},
   "source": [
    "### val_loss 기준"
   ]
  },
  {
   "cell_type": "code",
   "execution_count": null,
   "metadata": {},
   "outputs": [],
   "source": [
    "checkpoint = tf.keras.callbacks.ModelCheckpoint(save_path, monitor='val_loss', verbose=1, save_best_only=True, mode='min')"
   ]
  },
  {
   "cell_type": "markdown",
   "metadata": {},
   "source": [
    "## Training"
   ]
  },
  {
   "cell_type": "code",
   "execution_count": 17,
   "metadata": {},
   "outputs": [
    {
     "name": "stderr",
     "output_type": "stream",
     "text": [
      "C:\\Users\\jumin\\anaconda3\\envs\\tensorflow\\lib\\site-packages\\tensorflow\\python\\keras\\engine\\training.py:1940: UserWarning: `Model.fit_generator` is deprecated and will be removed in a future version. Please use `Model.fit`, which supports generators.\n",
      "  warnings.warn('`Model.fit_generator` is deprecated and '\n"
     ]
    },
    {
     "name": "stdout",
     "output_type": "stream",
     "text": [
      "Epoch 1/20\n",
      "31/31 [==============================] - 11s 249ms/step - loss: 2.3112 - accuracy: 0.1095 - val_loss: 2.2839 - val_accuracy: 0.1129\n",
      "\n",
      "Epoch 00001: val_accuracy improved from -inf to 0.11290, saving model to checkpoint\n",
      "INFO:tensorflow:Assets written to: checkpoint\\assets\n",
      "Epoch 2/20\n",
      "31/31 [==============================] - 9s 280ms/step - loss: 2.2567 - accuracy: 0.1291 - val_loss: 2.2352 - val_accuracy: 0.1532\n",
      "\n",
      "Epoch 00002: val_accuracy improved from 0.11290 to 0.15323, saving model to checkpoint\n",
      "INFO:tensorflow:Assets written to: checkpoint\\assets\n",
      "Epoch 3/20\n",
      "31/31 [==============================] - 9s 281ms/step - loss: 2.2044 - accuracy: 0.1467 - val_loss: 2.0771 - val_accuracy: 0.2591\n",
      "\n",
      "Epoch 00003: val_accuracy improved from 0.15323 to 0.25907, saving model to checkpoint\n",
      "INFO:tensorflow:Assets written to: checkpoint\\assets\n",
      "Epoch 4/20\n",
      "31/31 [==============================] - 8s 275ms/step - loss: 2.1342 - accuracy: 0.2262 - val_loss: 2.1355 - val_accuracy: 0.2077\n",
      "\n",
      "Epoch 00004: val_accuracy did not improve from 0.25907\n",
      "Epoch 5/20\n",
      "31/31 [==============================] - 8s 256ms/step - loss: 2.0998 - accuracy: 0.2087 - val_loss: 2.0386 - val_accuracy: 0.2208\n",
      "\n",
      "Epoch 00005: val_accuracy did not improve from 0.25907\n",
      "Epoch 6/20\n",
      "31/31 [==============================] - 7s 235ms/step - loss: 2.0271 - accuracy: 0.2595 - val_loss: 1.9872 - val_accuracy: 0.2409\n",
      "\n",
      "Epoch 00006: val_accuracy did not improve from 0.25907\n",
      "Epoch 7/20\n",
      "31/31 [==============================] - 7s 241ms/step - loss: 1.9536 - accuracy: 0.2769 - val_loss: 1.9633 - val_accuracy: 0.2974\n",
      "\n",
      "Epoch 00007: val_accuracy improved from 0.25907 to 0.29738, saving model to checkpoint\n",
      "INFO:tensorflow:Assets written to: checkpoint\\assets\n",
      "Epoch 8/20\n",
      "31/31 [==============================] - 7s 242ms/step - loss: 1.9109 - accuracy: 0.2882 - val_loss: 1.9621 - val_accuracy: 0.3115\n",
      "\n",
      "Epoch 00008: val_accuracy improved from 0.29738 to 0.31149, saving model to checkpoint\n",
      "INFO:tensorflow:Assets written to: checkpoint\\assets\n",
      "Epoch 9/20\n",
      "31/31 [==============================] - 7s 243ms/step - loss: 1.9102 - accuracy: 0.2812 - val_loss: 1.8959 - val_accuracy: 0.2702\n",
      "\n",
      "Epoch 00009: val_accuracy did not improve from 0.31149\n",
      "Epoch 10/20\n",
      "31/31 [==============================] - 7s 238ms/step - loss: 1.8500 - accuracy: 0.2987 - val_loss: 1.8477 - val_accuracy: 0.3135\n",
      "\n",
      "Epoch 00010: val_accuracy improved from 0.31149 to 0.31351, saving model to checkpoint\n",
      "INFO:tensorflow:Assets written to: checkpoint\\assets\n",
      "Epoch 11/20\n",
      "31/31 [==============================] - 7s 240ms/step - loss: 1.8624 - accuracy: 0.3068 - val_loss: 1.8696 - val_accuracy: 0.2964\n",
      "\n",
      "Epoch 00011: val_accuracy did not improve from 0.31351\n",
      "Epoch 12/20\n",
      "31/31 [==============================] - 8s 252ms/step - loss: 1.7600 - accuracy: 0.3458 - val_loss: 1.7423 - val_accuracy: 0.3760\n",
      "\n",
      "Epoch 00012: val_accuracy improved from 0.31351 to 0.37601, saving model to checkpoint\n",
      "INFO:tensorflow:Assets written to: checkpoint\\assets\n",
      "Epoch 13/20\n",
      "31/31 [==============================] - 8s 247ms/step - loss: 1.7381 - accuracy: 0.3559 - val_loss: 1.7618 - val_accuracy: 0.3488\n",
      "\n",
      "Epoch 00013: val_accuracy did not improve from 0.37601\n",
      "Epoch 14/20\n",
      "31/31 [==============================] - 7s 231ms/step - loss: 1.7211 - accuracy: 0.3709 - val_loss: 1.7457 - val_accuracy: 0.3669\n",
      "\n",
      "Epoch 00014: val_accuracy did not improve from 0.37601\n",
      "Epoch 15/20\n",
      "31/31 [==============================] - 8s 245ms/step - loss: 1.7647 - accuracy: 0.3616 - val_loss: 1.7368 - val_accuracy: 0.3548\n",
      "\n",
      "Epoch 00015: val_accuracy did not improve from 0.37601\n",
      "Epoch 16/20\n",
      "31/31 [==============================] - 8s 245ms/step - loss: 1.6956 - accuracy: 0.3710 - val_loss: 1.7099 - val_accuracy: 0.3679\n",
      "\n",
      "Epoch 00016: val_accuracy did not improve from 0.37601\n",
      "Epoch 17/20\n",
      "31/31 [==============================] - 7s 236ms/step - loss: 1.6255 - accuracy: 0.3957 - val_loss: 1.6697 - val_accuracy: 0.3750\n",
      "\n",
      "Epoch 00017: val_accuracy did not improve from 0.37601\n",
      "Epoch 18/20\n",
      "31/31 [==============================] - 7s 238ms/step - loss: 1.6137 - accuracy: 0.4008 - val_loss: 1.6508 - val_accuracy: 0.4123\n",
      "\n",
      "Epoch 00018: val_accuracy improved from 0.37601 to 0.41230, saving model to checkpoint\n",
      "INFO:tensorflow:Assets written to: checkpoint\\assets\n",
      "Epoch 19/20\n",
      "31/31 [==============================] - 8s 257ms/step - loss: 1.6113 - accuracy: 0.4163 - val_loss: 1.6322 - val_accuracy: 0.4234\n",
      "\n",
      "Epoch 00019: val_accuracy improved from 0.41230 to 0.42339, saving model to checkpoint\n",
      "INFO:tensorflow:Assets written to: checkpoint\\assets\n",
      "Epoch 20/20\n",
      "31/31 [==============================] - 8s 255ms/step - loss: 1.5508 - accuracy: 0.4267 - val_loss: 1.6243 - val_accuracy: 0.4204\n",
      "\n",
      "Epoch 00020: val_accuracy did not improve from 0.42339\n"
     ]
    },
    {
     "data": {
      "text/plain": [
       "<tensorflow.python.keras.callbacks.History at 0x1f923881130>"
      ]
     },
     "execution_count": 17,
     "metadata": {},
     "output_type": "execute_result"
    }
   ],
   "source": [
    "steps_per_epoch = len(train_paths) // batch_size\n",
    "validation_steps = len(test_paths) // batch_size\n",
    "\n",
    "model.fit_generator(\n",
    "    train_dataset,\n",
    "    steps_per_epoch=steps_per_epoch,\n",
    "    validation_data=test_dataset,\n",
    "    validation_steps=validation_steps,\n",
    "    epochs=num_epochs,\n",
    "    callbacks=[checkpoint]\n",
    ")"
   ]
  },
  {
   "cell_type": "markdown",
   "metadata": {},
   "source": [
    "https://www.tensorflow.org/tensorboard/r2/image_summaries#setup"
   ]
  }
 ],
 "metadata": {
  "kernelspec": {
   "display_name": "Python 3",
   "language": "python",
   "name": "python3"
  },
  "language_info": {
   "codemirror_mode": {
    "name": "ipython",
    "version": 3
   },
   "file_extension": ".py",
   "mimetype": "text/x-python",
   "name": "python",
   "nbconvert_exporter": "python",
   "pygments_lexer": "ipython3",
   "version": "3.8.10"
  }
 },
 "nbformat": 4,
 "nbformat_minor": 2
}
