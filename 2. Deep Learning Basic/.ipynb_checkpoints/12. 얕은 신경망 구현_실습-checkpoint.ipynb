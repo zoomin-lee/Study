{
 "cells": [
  {
   "cell_type": "markdown",
   "metadata": {
    "id": "lCOUeu9jGz73"
   },
   "source": [
    "# 얕은 신경망을 이용한 다중 분류 문제"
   ]
  },
  {
   "cell_type": "code",
   "execution_count": null,
   "metadata": {
    "id": "agIRnXazGz78"
   },
   "outputs": [],
   "source": [
    "import numpy as np\n",
    "import matplotlib.pyplot as plt"
   ]
  },
  {
   "cell_type": "markdown",
   "metadata": {
    "id": "Nw_3_JMIGz79"
   },
   "source": [
    "## 함수 구현"
   ]
  },
  {
   "cell_type": "code",
   "execution_count": null,
   "metadata": {
    "colab": {
     "base_uri": "https://localhost:8080/"
    },
    "executionInfo": {
     "elapsed": 345,
     "status": "ok",
     "timestamp": 1627387061457,
     "user": {
      "displayName": "이주민",
      "photoUrl": "",
      "userId": "01386847358094111822"
     },
     "user_tz": -540
    },
    "id": "sVU5roATG5jG",
    "outputId": "fb5da192-2f91-4356-d7fe-b333543b30c7"
   },
   "outputs": [
    {
     "name": "stdout",
     "output_type": "stream",
     "text": [
      "Drive already mounted at /content/drive; to attempt to forcibly remount, call drive.mount(\"/content/drive\", force_remount=True).\n"
     ]
    }
   ],
   "source": [
    "from google.colab import drive\n",
    "drive.mount('/content/drive')"
   ]
  },
  {
   "cell_type": "markdown",
   "metadata": {
    "id": "Es4h0d4mGz79"
   },
   "source": [
    "### Sigmoid 함수\n",
    "$sigmoid(x) = 1/(1+e^{-x})$"
   ]
  },
  {
   "cell_type": "code",
   "execution_count": null,
   "metadata": {
    "id": "ImuYoGssGz7-"
   },
   "outputs": [],
   "source": [
    "def sigmoid(x):\n",
    "  return 1/(1 + np.exp(-x))"
   ]
  },
  {
   "cell_type": "markdown",
   "metadata": {
    "id": "l4liWFY0Gz7-"
   },
   "source": [
    "### Softmax 함수\n",
    "$softmax(x)_i = e^{x_i}/\\sum{e^{x_j}}$"
   ]
  },
  {
   "cell_type": "code",
   "execution_count": null,
   "metadata": {
    "id": "2VdAewKjGz7_"
   },
   "outputs": [],
   "source": [
    "def softmax(x):\n",
    "  e_x = np.exp(x)\n",
    "  return e_x / np.sum(e_x)"
   ]
  },
  {
   "cell_type": "markdown",
   "metadata": {
    "id": "l-widNgOGz7_"
   },
   "source": [
    "## 네트워크 구조 정의"
   ]
  },
  {
   "cell_type": "code",
   "execution_count": null,
   "metadata": {
    "id": "XuKInSdJGz7_"
   },
   "outputs": [],
   "source": [
    "# Define network architecture\n",
    "class ShallowNN:\n",
    "  def __init__(self, num_input, num_hidden, num_output):\n",
    "    self.W_h = np.zeros((num_hidden, num_input), dtype = np.float32)\n",
    "    self.b_h = np.zeros((num_hidden,), dtype = np.float32)\n",
    "    self.W_o = np.zeros((num_output, num_hidden), dtype = np.float32)\n",
    "    self.b_o = np.zeros((num_output,), dtype = np.float32)\n",
    "\n",
    "  def __call__(self,x):\n",
    "    h = sigmoid(np.matmul(self.W_h, x) + self.b_h)\n",
    "    return softmax(np.matmul(self.W_o, h) + self.b_o)"
   ]
  },
  {
   "cell_type": "markdown",
   "metadata": {
    "id": "kYpGk2JSGz8A"
   },
   "source": [
    "## 데이터셋 가져오기, 정리하기"
   ]
  },
  {
   "cell_type": "code",
   "execution_count": null,
   "metadata": {
    "id": "1vAkK0gKGz8A"
   },
   "outputs": [],
   "source": [
    "# Import and organize dataset\n",
    "dataset = np.load('/content/drive/MyDrive/패스트캠퍼스/Part4) 딥러닝 3 STEP의 기초/dataset/ch2_dataset.npz')\n",
    "inputs = dataset['inputs']\n",
    "labels = dataset['labels']"
   ]
  },
  {
   "cell_type": "markdown",
   "metadata": {
    "id": "Kj1V3JqWGz8B"
   },
   "source": [
    "## 모델 만들기"
   ]
  },
  {
   "cell_type": "code",
   "execution_count": null,
   "metadata": {
    "id": "ynaavJQYGz8B",
    "scrolled": false
   },
   "outputs": [],
   "source": [
    "# Create Model\n",
    "model = ShallowNN(2, 128, 10)"
   ]
  },
  {
   "cell_type": "markdown",
   "metadata": {
    "id": "qvaNFhXCGz8B"
   },
   "source": [
    "## 사전에 학습된 파라미터 불러오기"
   ]
  },
  {
   "cell_type": "code",
   "execution_count": null,
   "metadata": {
    "id": "hmneOT42Gz8C"
   },
   "outputs": [],
   "source": [
    "weights = np.load('/content/drive/MyDrive/패스트캠퍼스/Part4) 딥러닝 3 STEP의 기초/dataset/ch2_parameters.npz')\n",
    "model.W_h = weights['W_h']\n",
    "model.b_h = weights['b_h']\n",
    "model.W_o = weights['W_o']\n",
    "model.b_o = weights['b_o']"
   ]
  },
  {
   "cell_type": "markdown",
   "metadata": {
    "id": "xSnGDfagGz8C"
   },
   "source": [
    "## 모델 구동 및 결과 프린트"
   ]
  },
  {
   "cell_type": "code",
   "execution_count": null,
   "metadata": {
    "id": "8E00pgRvGz8C"
   },
   "outputs": [],
   "source": [
    "outputs = []\n",
    "\n",
    "for pt, label in zip(inputs, labels):\n",
    "  output = model(pt)\n",
    "  outputs.append(np.argmax(output))\n",
    "outputs = np.asarray(outputs)"
   ]
  },
  {
   "cell_type": "markdown",
   "metadata": {
    "id": "AZ5otT5yGz8C"
   },
   "source": [
    "## 정답 클래스 스캐터 플랏"
   ]
  },
  {
   "cell_type": "code",
   "execution_count": null,
   "metadata": {
    "colab": {
     "base_uri": "https://localhost:8080/",
     "height": 281
    },
    "executionInfo": {
     "elapsed": 471,
     "status": "ok",
     "timestamp": 1627387061922,
     "user": {
      "displayName": "이주민",
      "photoUrl": "",
      "userId": "01386847358094111822"
     },
     "user_tz": -540
    },
    "id": "Ps9iXrILGz8D",
    "outputId": "868ed340-5725-40d1-d318-2a3d13845b66"
   },
   "outputs": [
    {
     "data": {
      "image/png": "[encoded data removed]",
      "text/plain": [
       "<Figure size 432x288 with 1 Axes>"
      ]
     },
     "metadata": {
      "needs_background": "light",
      "tags": []
     },
     "output_type": "display_data"
    }
   ],
   "source": [
    "plt.figure()\n",
    "\n",
    "for idx in range(10):\n",
    "  mask = labels == idx\n",
    "  plt.scatter(inputs[mask, 0], inputs[mask, 1])\n",
    "plt.title(\"true_label\")\n",
    "plt.show()"
   ]
  },
  {
   "cell_type": "markdown",
   "metadata": {
    "id": "vLTyUN0wGz8D"
   },
   "source": [
    "## 모델 출력 클래스 스캐터 플랏"
   ]
  },
  {
   "cell_type": "code",
   "execution_count": null,
   "metadata": {
    "colab": {
     "base_uri": "https://localhost:8080/",
     "height": 281
    },
    "executionInfo": {
     "elapsed": 431,
     "status": "ok",
     "timestamp": 1627387062345,
     "user": {
      "displayName": "이주민",
      "photoUrl": "",
      "userId": "01386847358094111822"
     },
     "user_tz": -540
    },
    "id": "eSsfUKbsGz8D",
    "outputId": "5fd6e1c4-7dee-4e2e-c583-9e13fb856b86"
   },
   "outputs": [
    {
     "data": {
      "image/png": "[encoded data removed]",
      "text/plain": [
       "<Figure size 432x288 with 1 Axes>"
      ]
     },
     "metadata": {
      "needs_background": "light",
      "tags": []
     },
     "output_type": "display_data"
    }
   ],
   "source": [
    "plt.figure()\n",
    "\n",
    "for idx in range(10):\n",
    "  mask = outputs == idx\n",
    "  plt.scatter(inputs[mask, 0], inputs[mask, 1])\n",
    "plt.title(\"model_output\")\n",
    "plt.show()"
   ]
  }
 ],
 "metadata": {
  "colab": {
   "collapsed_sections": [],
   "name": "12. 얕은 신경망 구현_실습.ipynb",
   "provenance": []
  },
  "kernelspec": {
   "display_name": "Python 3",
   "language": "python",
   "name": "python3"
  },
  "language_info": {
   "codemirror_mode": {
    "name": "ipython",
    "version": 3
   },
   "file_extension": ".py",
   "mimetype": "text/x-python",
   "name": "python",
   "nbconvert_exporter": "python",
   "pygments_lexer": "ipython3",
   "version": "3.8.10"
  }
 },
 "nbformat": 4,
 "nbformat_minor": 1
}
