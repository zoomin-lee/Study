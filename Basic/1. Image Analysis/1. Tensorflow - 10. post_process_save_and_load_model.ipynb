{
 "cells": [
  {
   "cell_type": "markdown",
   "metadata": {},
   "source": [
    "# TensorFlow 2.0"
   ]
  },
  {
   "cell_type": "code",
   "execution_count": 1,
   "metadata": {},
   "outputs": [],
   "source": [
    "import os\n",
    "from glob import glob\n",
    "from datetime import datetime\n",
    "\n",
    "import numpy as np\n",
    "\n",
    "import tensorflow as tf\n",
    "from tensorflow.keras import layers\n",
    "\n",
    "from tensorflow.keras import datasets \n",
    "\n",
    "import matplotlib.pyplot as plt\n",
    "\n",
    "%matplotlib inline"
   ]
  },
  {
   "cell_type": "markdown",
   "metadata": {},
   "source": [
    "## Hyperparameter Tunning"
   ]
  },
  {
   "cell_type": "code",
   "execution_count": 2,
   "metadata": {},
   "outputs": [],
   "source": [
    "num_epochs = 50\n",
    "batch_size = 32\n",
    "\n",
    "learning_rate = 0.001\n",
    "\n",
    "dropout_rate = 0.5\n",
    "\n",
    "input_shape = (32, 32, 3)\n",
    "num_classes = 10"
   ]
  },
  {
   "cell_type": "markdown",
   "metadata": {},
   "source": [
    "## Build Model"
   ]
  },
  {
   "cell_type": "code",
   "execution_count": 3,
   "metadata": {},
   "outputs": [],
   "source": [
    "inputs = layers.Input(input_shape)\n",
    "\n",
    "net = layers.Conv2D(32, (3, 3), padding='SAME')(inputs)\n",
    "net = layers.Activation('relu')(net)\n",
    "net = layers.Conv2D(32, (3, 3), padding='SAME')(net)\n",
    "net = layers.Activation('relu')(net)\n",
    "net = layers.MaxPooling2D(pool_size=(2, 2))(net)\n",
    "net = layers.Dropout(dropout_rate)(net)\n",
    "\n",
    "net = layers.Conv2D(64, (3, 3), padding='SAME')(net)\n",
    "net = layers.Activation('relu')(net)\n",
    "net = layers.Conv2D(64, (3, 3), padding='SAME')(net)\n",
    "net = layers.Activation('relu')(net)\n",
    "net = layers.MaxPooling2D(pool_size=(2, 2))(net)\n",
    "net = layers.Dropout(dropout_rate)(net)\n",
    "\n",
    "net = layers.Flatten()(net)\n",
    "net = layers.Dense(512)(net)\n",
    "net = layers.Activation('relu')(net)\n",
    "net = layers.Dropout(dropout_rate)(net)\n",
    "net = layers.Dense(num_classes)(net)\n",
    "net = layers.Activation('softmax')(net)\n",
    "\n",
    "model = tf.keras.Model(inputs=inputs, outputs=net, name='Basic_CNN')"
   ]
  },
  {
   "cell_type": "code",
   "execution_count": 4,
   "metadata": {},
   "outputs": [],
   "source": [
    "# Model is the full model w/o custom layers\n",
    "model.compile(optimizer=tf.keras.optimizers.Adam(learning_rate),  # Optimization\n",
    "              loss='sparse_categorical_crossentropy',  # Loss Function \n",
    "              metrics=['accuracy'])  # Metrics / Accuracy"
   ]
  },
  {
   "cell_type": "markdown",
   "metadata": {},
   "source": [
    "# Data Preprocess"
   ]
  },
  {
   "cell_type": "code",
   "execution_count": 5,
   "metadata": {},
   "outputs": [],
   "source": [
    "train_paths = glob('../dataset/cifar/train/*.png')[:1000]\n",
    "test_paths = glob('../dataset/cifar/test/*.png')[:1000]"
   ]
  },
  {
   "cell_type": "code",
   "execution_count": 6,
   "metadata": {},
   "outputs": [],
   "source": [
    "def get_class_name(path):\n",
    "    return path.split('_')[-1].replace('.png', '')"
   ]
  },
  {
   "cell_type": "code",
   "execution_count": 7,
   "metadata": {},
   "outputs": [],
   "source": [
    "train_labels = [get_class_name(path) for path in train_paths]\n",
    "class_names = np.unique(train_labels)"
   ]
  },
  {
   "cell_type": "code",
   "execution_count": 8,
   "metadata": {},
   "outputs": [],
   "source": [
    "def get_label(path):\n",
    "    fname = tf.strings.split(path, '_')[-1]\n",
    "    lbl_name = tf.strings.regex_replace(fname, '.png', '')\n",
    "    onehot = tf.cast(lbl_name == class_names, tf.uint8)\n",
    "    return tf.argmax(onehot)  # 이번에는 onehot이 아닌 label 번호로"
   ]
  },
  {
   "cell_type": "code",
   "execution_count": 9,
   "metadata": {},
   "outputs": [],
   "source": [
    "def load_image_label(path):\n",
    "    gfile = tf.io.read_file(path)\n",
    "    image = tf.io.decode_image(gfile)\n",
    "    image = tf.cast(image, tf.float32) / 255.  # rescale\n",
    "    \n",
    "    label = get_label(path)\n",
    "    return image, label"
   ]
  },
  {
   "cell_type": "code",
   "execution_count": 10,
   "metadata": {},
   "outputs": [],
   "source": [
    "def image_preprocess(image, label):\n",
    "    image = tf.image.random_flip_up_down(image)\n",
    "    image = tf.image.random_flip_left_right(image)\n",
    "    return image, label"
   ]
  },
  {
   "cell_type": "code",
   "execution_count": 11,
   "metadata": {},
   "outputs": [],
   "source": [
    "AUTOTUNE = tf.data.experimental.AUTOTUNE"
   ]
  },
  {
   "cell_type": "code",
   "execution_count": 12,
   "metadata": {
    "scrolled": false
   },
   "outputs": [],
   "source": [
    "train_dataset = tf.data.Dataset.from_tensor_slices(train_paths)\n",
    "train_dataset = train_dataset.map(load_image_label, num_parallel_calls=AUTOTUNE)\n",
    "train_dataset = train_dataset.map(image_preprocess, num_parallel_calls=AUTOTUNE)\n",
    "train_dataset = train_dataset.batch(batch_size)\n",
    "train_dataset = train_dataset.shuffle(buffer_size=len(train_paths))\n",
    "train_dataset = train_dataset.repeat()"
   ]
  },
  {
   "cell_type": "code",
   "execution_count": 13,
   "metadata": {},
   "outputs": [],
   "source": [
    "test_dataset = tf.data.Dataset.from_tensor_slices(test_paths)\n",
    "test_dataset = test_dataset.map(load_image_label, num_parallel_calls=AUTOTUNE)\n",
    "test_dataset = test_dataset.batch(batch_size)\n",
    "test_dataset = test_dataset.repeat()"
   ]
  },
  {
   "cell_type": "markdown",
   "metadata": {},
   "source": [
    "## Training\n",
    "- model.fit_generator를 history에 담아줘야함"
   ]
  },
  {
   "cell_type": "markdown",
   "metadata": {},
   "source": [
    "http://localhost:6006"
   ]
  },
  {
   "cell_type": "code",
   "execution_count": 14,
   "metadata": {
    "scrolled": false
   },
   "outputs": [
    {
     "name": "stderr",
     "output_type": "stream",
     "text": [
      "C:\\Users\\jumin\\anaconda3\\envs\\tensorflow\\lib\\site-packages\\tensorflow\\python\\keras\\engine\\training.py:1940: UserWarning: `Model.fit_generator` is deprecated and will be removed in a future version. Please use `Model.fit`, which supports generators.\n",
      "  warnings.warn('`Model.fit_generator` is deprecated and '\n"
     ]
    },
    {
     "name": "stdout",
     "output_type": "stream",
     "text": [
      "Epoch 1/50\n",
      "31/31 [==============================] - 11s 250ms/step - loss: 2.3310 - accuracy: 0.0971 - val_loss: 2.3021 - val_accuracy: 0.0897\n",
      "Epoch 2/50\n",
      "31/31 [==============================] - 8s 256ms/step - loss: 2.2945 - accuracy: 0.1240 - val_loss: 2.2797 - val_accuracy: 0.1633\n",
      "Epoch 3/50\n",
      "31/31 [==============================] - 7s 244ms/step - loss: 2.2333 - accuracy: 0.1767 - val_loss: 2.1885 - val_accuracy: 0.1986\n",
      "Epoch 4/50\n",
      "31/31 [==============================] - 8s 245ms/step - loss: 2.2078 - accuracy: 0.1787 - val_loss: 2.1726 - val_accuracy: 0.2157\n",
      "Epoch 5/50\n",
      "31/31 [==============================] - 7s 239ms/step - loss: 2.1631 - accuracy: 0.2004 - val_loss: 2.0940 - val_accuracy: 0.2056\n",
      "Epoch 6/50\n",
      "31/31 [==============================] - 7s 243ms/step - loss: 2.1288 - accuracy: 0.2273 - val_loss: 2.0801 - val_accuracy: 0.2268\n",
      "Epoch 7/50\n",
      "31/31 [==============================] - 7s 241ms/step - loss: 2.1029 - accuracy: 0.2076 - val_loss: 2.0964 - val_accuracy: 0.2308\n",
      "Epoch 8/50\n",
      "31/31 [==============================] - 7s 244ms/step - loss: 2.0720 - accuracy: 0.2355 - val_loss: 2.2098 - val_accuracy: 0.1502\n",
      "Epoch 9/50\n",
      "31/31 [==============================] - 7s 241ms/step - loss: 2.0332 - accuracy: 0.2438 - val_loss: 2.0498 - val_accuracy: 0.2450\n",
      "Epoch 10/50\n",
      "31/31 [==============================] - 7s 237ms/step - loss: 2.0002 - accuracy: 0.2583 - val_loss: 1.9857 - val_accuracy: 0.2772\n",
      "Epoch 11/50\n",
      "31/31 [==============================] - 7s 239ms/step - loss: 1.9737 - accuracy: 0.2841 - val_loss: 1.9861 - val_accuracy: 0.2833\n",
      "Epoch 12/50\n",
      "31/31 [==============================] - 8s 248ms/step - loss: 1.9179 - accuracy: 0.3068 - val_loss: 1.8906 - val_accuracy: 0.3246\n",
      "Epoch 13/50\n",
      "31/31 [==============================] - 8s 253ms/step - loss: 1.8987 - accuracy: 0.2944 - val_loss: 1.9560 - val_accuracy: 0.2964\n",
      "Epoch 14/50\n",
      "31/31 [==============================] - 8s 251ms/step - loss: 1.8225 - accuracy: 0.3089 - val_loss: 1.8314 - val_accuracy: 0.3206\n",
      "Epoch 15/50\n",
      "31/31 [==============================] - 8s 252ms/step - loss: 1.7620 - accuracy: 0.3502 - val_loss: 1.8744 - val_accuracy: 0.3125\n",
      "Epoch 16/50\n",
      "31/31 [==============================] - 8s 255ms/step - loss: 1.8363 - accuracy: 0.3399 - val_loss: 1.7443 - val_accuracy: 0.3569\n",
      "Epoch 17/50\n",
      "31/31 [==============================] - 8s 255ms/step - loss: 1.7635 - accuracy: 0.3461 - val_loss: 1.8052 - val_accuracy: 0.3690\n",
      "Epoch 18/50\n",
      "31/31 [==============================] - 7s 240ms/step - loss: 1.7073 - accuracy: 0.3962 - val_loss: 1.7607 - val_accuracy: 0.3569\n",
      "Epoch 19/50\n",
      "31/31 [==============================] - 7s 242ms/step - loss: 1.6697 - accuracy: 0.3946 - val_loss: 1.7285 - val_accuracy: 0.3750\n",
      "Epoch 20/50\n",
      "31/31 [==============================] - 7s 239ms/step - loss: 1.7121 - accuracy: 0.3667 - val_loss: 1.7169 - val_accuracy: 0.3871\n",
      "Epoch 21/50\n",
      "31/31 [==============================] - 7s 243ms/step - loss: 1.6077 - accuracy: 0.4008 - val_loss: 1.6812 - val_accuracy: 0.4163\n",
      "Epoch 22/50\n",
      "31/31 [==============================] - 7s 242ms/step - loss: 1.6200 - accuracy: 0.3967 - val_loss: 1.6942 - val_accuracy: 0.3942\n",
      "Epoch 23/50\n",
      "31/31 [==============================] - 7s 238ms/step - loss: 1.5957 - accuracy: 0.4101 - val_loss: 1.7009 - val_accuracy: 0.3891\n",
      "Epoch 24/50\n",
      "31/31 [==============================] - 7s 240ms/step - loss: 1.6362 - accuracy: 0.4015 - val_loss: 1.6839 - val_accuracy: 0.3770\n",
      "Epoch 25/50\n",
      "31/31 [==============================] - 7s 243ms/step - loss: 1.5646 - accuracy: 0.4315 - val_loss: 1.6465 - val_accuracy: 0.3982\n",
      "Epoch 26/50\n",
      "31/31 [==============================] - 7s 239ms/step - loss: 1.5405 - accuracy: 0.4329 - val_loss: 1.6574 - val_accuracy: 0.4073\n",
      "Epoch 27/50\n",
      "31/31 [==============================] - 7s 238ms/step - loss: 1.5867 - accuracy: 0.4246 - val_loss: 1.6822 - val_accuracy: 0.3942\n",
      "Epoch 28/50\n",
      "31/31 [==============================] - 7s 238ms/step - loss: 1.4816 - accuracy: 0.4566 - val_loss: 1.5979 - val_accuracy: 0.4325\n",
      "Epoch 29/50\n",
      "31/31 [==============================] - 7s 242ms/step - loss: 1.4604 - accuracy: 0.4793 - val_loss: 1.6372 - val_accuracy: 0.4204\n",
      "Epoch 30/50\n",
      "31/31 [==============================] - 7s 240ms/step - loss: 1.4449 - accuracy: 0.4742 - val_loss: 1.7149 - val_accuracy: 0.4062\n",
      "Epoch 31/50\n",
      "31/31 [==============================] - 7s 239ms/step - loss: 1.4502 - accuracy: 0.4669 - val_loss: 1.6007 - val_accuracy: 0.4325\n",
      "Epoch 32/50\n",
      "31/31 [==============================] - 7s 240ms/step - loss: 1.3921 - accuracy: 0.4824 - val_loss: 1.6251 - val_accuracy: 0.4355\n",
      "Epoch 33/50\n",
      "31/31 [==============================] - 8s 251ms/step - loss: 1.4730 - accuracy: 0.4659 - val_loss: 1.5900 - val_accuracy: 0.4335\n",
      "Epoch 34/50\n",
      "31/31 [==============================] - 8s 268ms/step - loss: 1.3939 - accuracy: 0.4690 - val_loss: 1.5765 - val_accuracy: 0.4264\n",
      "Epoch 35/50\n",
      "31/31 [==============================] - 9s 292ms/step - loss: 1.3545 - accuracy: 0.5041 - val_loss: 1.6539 - val_accuracy: 0.4294\n",
      "Epoch 36/50\n",
      "31/31 [==============================] - 8s 257ms/step - loss: 1.4042 - accuracy: 0.4866 - val_loss: 1.5912 - val_accuracy: 0.4042\n",
      "Epoch 37/50\n",
      "31/31 [==============================] - 8s 271ms/step - loss: 1.3207 - accuracy: 0.5269 - val_loss: 1.5665 - val_accuracy: 0.4375\n",
      "Epoch 38/50\n",
      "31/31 [==============================] - 9s 278ms/step - loss: 1.3224 - accuracy: 0.5362 - val_loss: 1.5614 - val_accuracy: 0.4385\n",
      "Epoch 39/50\n",
      "31/31 [==============================] - 7s 235ms/step - loss: 1.3102 - accuracy: 0.5289 - val_loss: 1.5785 - val_accuracy: 0.4466\n",
      "Epoch 40/50\n",
      "31/31 [==============================] - 7s 231ms/step - loss: 1.2936 - accuracy: 0.5393 - val_loss: 1.5582 - val_accuracy: 0.4496\n",
      "Epoch 41/50\n",
      "31/31 [==============================] - 8s 253ms/step - loss: 1.2144 - accuracy: 0.5630 - val_loss: 1.5876 - val_accuracy: 0.4395\n",
      "Epoch 42/50\n",
      "31/31 [==============================] - 8s 267ms/step - loss: 1.2285 - accuracy: 0.5433 - val_loss: 1.5639 - val_accuracy: 0.4637\n",
      "Epoch 43/50\n",
      "31/31 [==============================] - 9s 275ms/step - loss: 1.2453 - accuracy: 0.5496 - val_loss: 1.5978 - val_accuracy: 0.4698\n",
      "Epoch 44/50\n",
      "31/31 [==============================] - 8s 263ms/step - loss: 1.1300 - accuracy: 0.5975 - val_loss: 1.5816 - val_accuracy: 0.4395\n",
      "Epoch 45/50\n",
      "31/31 [==============================] - 8s 265ms/step - loss: 1.2070 - accuracy: 0.5605 - val_loss: 1.5631 - val_accuracy: 0.4657\n",
      "Epoch 46/50\n",
      "31/31 [==============================] - 8s 246ms/step - loss: 1.1666 - accuracy: 0.5826 - val_loss: 1.5871 - val_accuracy: 0.4798\n",
      "Epoch 47/50\n",
      "31/31 [==============================] - 10s 311ms/step - loss: 1.1254 - accuracy: 0.5961 - val_loss: 1.6592 - val_accuracy: 0.4516\n",
      "Epoch 48/50\n",
      "31/31 [==============================] - 8s 267ms/step - loss: 1.0934 - accuracy: 0.5988 - val_loss: 1.6372 - val_accuracy: 0.4536\n",
      "Epoch 49/50\n",
      "31/31 [==============================] - 7s 236ms/step - loss: 1.1796 - accuracy: 0.5651 - val_loss: 1.6273 - val_accuracy: 0.4405\n",
      "Epoch 50/50\n",
      "31/31 [==============================] - 7s 231ms/step - loss: 1.0873 - accuracy: 0.6033 - val_loss: 1.6616 - val_accuracy: 0.4607\n"
     ]
    }
   ],
   "source": [
    "steps_per_epoch = len(train_paths) // batch_size\n",
    "validation_steps = len(test_paths) // batch_size\n",
    "\n",
    "history = model.fit_generator(\n",
    "    train_dataset,\n",
    "    steps_per_epoch=steps_per_epoch,\n",
    "    validation_data=test_dataset,\n",
    "    validation_steps=validation_steps,\n",
    "    epochs=num_epochs\n",
    ")"
   ]
  },
  {
   "cell_type": "markdown",
   "metadata": {},
   "source": [
    "# History 들여다 보기 "
   ]
  },
  {
   "cell_type": "code",
   "execution_count": 15,
   "metadata": {},
   "outputs": [
    {
     "data": {
      "text/plain": [
       "dict_keys(['loss', 'accuracy', 'val_loss', 'val_accuracy'])"
      ]
     },
     "execution_count": 15,
     "metadata": {},
     "output_type": "execute_result"
    }
   ],
   "source": [
    "history.history.keys()"
   ]
  },
  {
   "cell_type": "code",
   "execution_count": 16,
   "metadata": {},
   "outputs": [
    {
     "data": {
      "text/plain": [
       "{'verbose': 1, 'epochs': 50, 'steps': 31}"
      ]
     },
     "execution_count": 16,
     "metadata": {},
     "output_type": "execute_result"
    }
   ],
   "source": [
    "history.params"
   ]
  },
  {
   "cell_type": "code",
   "execution_count": 17,
   "metadata": {},
   "outputs": [],
   "source": [
    "new_model = history.model"
   ]
  },
  {
   "cell_type": "code",
   "execution_count": 18,
   "metadata": {},
   "outputs": [
    {
     "data": {
      "image/png": "[encoded data removed]",
      "text/plain": [
       "<Figure size 432x288 with 1 Axes>"
      ]
     },
     "metadata": {
      "needs_background": "light"
     },
     "output_type": "display_data"
    }
   ],
   "source": [
    "plt.plot(history.history['accuracy'])\n",
    "plt.plot(history.history['val_accuracy'])\n",
    "plt.title(\"Model Accuracy\")\n",
    "plt.ylabel('accuracy')\n",
    "plt.xlabel('epoch')\n",
    "plt.legend(['train', 'validation'])\n",
    "plt.show()"
   ]
  },
  {
   "cell_type": "code",
   "execution_count": 19,
   "metadata": {},
   "outputs": [
    {
     "data": {
      "image/png": "[encoded data removed]",
      "text/plain": [
       "<Figure size 432x288 with 1 Axes>"
      ]
     },
     "metadata": {
      "needs_background": "light"
     },
     "output_type": "display_data"
    }
   ],
   "source": [
    "plt.plot(history.history['loss'])\n",
    "plt.plot(history.history['val_loss'])\n",
    "plt.title('Model Loss')\n",
    "plt.ylabel('loss')\n",
    "plt.xlabel('epoch')\n",
    "plt.legend(['train', 'validation'])\n",
    "plt.show()"
   ]
  },
  {
   "cell_type": "markdown",
   "metadata": {},
   "source": [
    "## Predict\n",
    "\n",
    "### 이미지를 직접 load해서 넣는 방법"
   ]
  },
  {
   "cell_type": "code",
   "execution_count": 21,
   "metadata": {},
   "outputs": [
    {
     "data": {
      "text/plain": [
       "'../dataset/cifar/test\\\\0_cat.png'"
      ]
     },
     "execution_count": 21,
     "metadata": {},
     "output_type": "execute_result"
    }
   ],
   "source": [
    "path = test_paths[0]\n",
    "path"
   ]
  },
  {
   "cell_type": "code",
   "execution_count": 23,
   "metadata": {},
   "outputs": [
    {
     "data": {
      "text/plain": [
       "TensorShape([32, 32, 3])"
      ]
     },
     "execution_count": 23,
     "metadata": {},
     "output_type": "execute_result"
    }
   ],
   "source": [
    "gfile = tf.io.read_file(path)\n",
    "image = tf.io.decode_image(gfile, dtype=tf.float32)\n",
    "image.shape"
   ]
  },
  {
   "cell_type": "code",
   "execution_count": 25,
   "metadata": {},
   "outputs": [
    {
     "data": {
      "text/plain": [
       "TensorShape([1, 32, 32, 3])"
      ]
     },
     "execution_count": 25,
     "metadata": {},
     "output_type": "execute_result"
    }
   ],
   "source": [
    "image = image[tf.newaxis, ...]\n",
    "image.shape"
   ]
  },
  {
   "cell_type": "code",
   "execution_count": 28,
   "metadata": {},
   "outputs": [
    {
     "data": {
      "text/plain": [
       "array([[0.06890034, 0.03950035, 0.01393997, 0.15479487, 0.17380114,\n",
       "        0.07429437, 0.01253017, 0.29074475, 0.01226205, 0.15923204]],\n",
       "      dtype=float32)"
      ]
     },
     "execution_count": 28,
     "metadata": {},
     "output_type": "execute_result"
    }
   ],
   "source": [
    "pre = model.predict(image)\n",
    "pre"
   ]
  },
  {
   "cell_type": "code",
   "execution_count": 29,
   "metadata": {},
   "outputs": [
    {
     "data": {
      "text/plain": [
       "7"
      ]
     },
     "execution_count": 29,
     "metadata": {},
     "output_type": "execute_result"
    }
   ],
   "source": [
    "pre.argmax()"
   ]
  },
  {
   "cell_type": "markdown",
   "metadata": {},
   "source": [
    "### generator에서 데이터를 가져오는 방법"
   ]
  },
  {
   "cell_type": "code",
   "execution_count": 30,
   "metadata": {},
   "outputs": [
    {
     "data": {
      "text/plain": [
       "TensorShape([32, 32, 32, 3])"
      ]
     },
     "execution_count": 30,
     "metadata": {},
     "output_type": "execute_result"
    }
   ],
   "source": [
    "test_image, test_label = next(iter(test_dataset))\n",
    "test_image.shape"
   ]
  },
  {
   "cell_type": "code",
   "execution_count": 34,
   "metadata": {},
   "outputs": [
    {
     "data": {
      "text/plain": [
       "(32, 10)"
      ]
     },
     "execution_count": 34,
     "metadata": {},
     "output_type": "execute_result"
    }
   ],
   "source": [
    "pre = model.predict(test_image)\n",
    "pre.shape"
   ]
  },
  {
   "cell_type": "code",
   "execution_count": 43,
   "metadata": {},
   "outputs": [
    {
     "data": {
      "text/plain": [
       "array([7, 5, 0, 7, 4, 0, 1, 1, 8, 1, 6, 8, 0, 8, 7, 0, 3, 4, 1, 6, 0, 2,\n",
       "       3, 1, 7, 0, 0, 8, 7, 4, 0, 6], dtype=int64)"
      ]
     },
     "execution_count": 43,
     "metadata": {},
     "output_type": "execute_result"
    }
   ],
   "source": [
    "pre.argmax(axis=-1)"
   ]
  },
  {
   "cell_type": "markdown",
   "metadata": {},
   "source": [
    "### generator에 넣는 방법"
   ]
  },
  {
   "cell_type": "code",
   "execution_count": 40,
   "metadata": {},
   "outputs": [
    {
     "data": {
      "text/plain": [
       "(64, 10)"
      ]
     },
     "execution_count": 40,
     "metadata": {},
     "output_type": "execute_result"
    }
   ],
   "source": [
    "pred = model.predict_generator(test_dataset.take(2))\n",
    "pred.shape"
   ]
  },
  {
   "cell_type": "code",
   "execution_count": 44,
   "metadata": {},
   "outputs": [
    {
     "data": {
      "text/plain": [
       "array([7, 5, 0, 7, 4, 0, 1, 1, 8, 1, 6, 8, 0, 8, 7, 0, 3, 4, 1, 6, 0, 2,\n",
       "       3, 1, 7, 0, 0, 8, 7, 4, 0, 6, 6, 6, 3, 8, 6, 3, 6, 6, 6, 7, 2, 4,\n",
       "       3, 5, 5, 5, 0, 0, 3, 4, 8, 1, 1, 1, 8, 6, 8, 6, 9, 5, 3, 6],\n",
       "      dtype=int64)"
      ]
     },
     "execution_count": 44,
     "metadata": {},
     "output_type": "execute_result"
    }
   ],
   "source": [
    "pred.argmax(axis=-1)"
   ]
  },
  {
   "cell_type": "markdown",
   "metadata": {},
   "source": [
    "## Evaluation \n",
    "- prediction과 달리 image와 label같이 넣음"
   ]
  },
  {
   "cell_type": "code",
   "execution_count": 47,
   "metadata": {},
   "outputs": [
    {
     "name": "stdout",
     "output_type": "stream",
     "text": [
      "1/1 [==============================] - 0s 75ms/step - loss: 1.2026 - accuracy: 0.5938\n"
     ]
    }
   ],
   "source": [
    "evals = model.evaluate(test_image, test_label)"
   ]
  },
  {
   "cell_type": "code",
   "execution_count": 48,
   "metadata": {},
   "outputs": [
    {
     "data": {
      "text/plain": [
       "[1.2026145458221436, 0.59375]"
      ]
     },
     "execution_count": 48,
     "metadata": {},
     "output_type": "execute_result"
    }
   ],
   "source": [
    "evals"
   ]
  }
 ],
 "metadata": {
  "kernelspec": {
   "display_name": "Python 3",
   "language": "python",
   "name": "python3"
  },
  "language_info": {
   "codemirror_mode": {
    "name": "ipython",
    "version": 3
   },
   "file_extension": ".py",
   "mimetype": "text/x-python",
   "name": "python",
   "nbconvert_exporter": "python",
   "pygments_lexer": "ipython3",
   "version": "3.8.10"
  }
 },
 "nbformat": 4,
 "nbformat_minor": 2
}
