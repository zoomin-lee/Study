{
 "cells": [
  {
   "cell_type": "markdown",
   "metadata": {},
   "source": [
    "# TensorFlow 2.0"
   ]
  },
  {
   "cell_type": "code",
   "execution_count": 1,
   "metadata": {},
   "outputs": [],
   "source": [
    "import os\n",
    "from glob import glob\n",
    "from datetime import datetime\n",
    "\n",
    "import numpy as np\n",
    "\n",
    "import tensorflow as tf\n",
    "from tensorflow.keras import layers\n",
    "\n",
    "from tensorflow.keras import datasets \n",
    "\n",
    "import matplotlib.pyplot as plt\n",
    "\n",
    "%load_ext tensorboard\n",
    "%matplotlib inline"
   ]
  },
  {
   "cell_type": "markdown",
   "metadata": {},
   "source": [
    "## Hyperparameter Tunning"
   ]
  },
  {
   "cell_type": "code",
   "execution_count": 2,
   "metadata": {},
   "outputs": [],
   "source": [
    "num_epochs = 100\n",
    "batch_size = 32\n",
    "\n",
    "learning_rate = 0.001\n",
    "\n",
    "dropout_rate = 0.5\n",
    "\n",
    "input_shape = (32, 32, 3)\n",
    "num_classes = 10"
   ]
  },
  {
   "cell_type": "markdown",
   "metadata": {},
   "source": [
    "## Build Model"
   ]
  },
  {
   "cell_type": "code",
   "execution_count": 3,
   "metadata": {},
   "outputs": [],
   "source": [
    "inputs = layers.Input(input_shape)\n",
    "\n",
    "net = layers.Conv2D(32, (3, 3), padding='SAME')(inputs)\n",
    "net = layers.Activation('relu')(net)\n",
    "net = layers.Conv2D(32, (3, 3), padding='SAME')(net)\n",
    "net = layers.Activation('relu')(net)\n",
    "net = layers.MaxPooling2D(pool_size=(2, 2))(net)\n",
    "net = layers.Dropout(dropout_rate)(net)\n",
    "\n",
    "net = layers.Conv2D(64, (3, 3), padding='SAME')(net)\n",
    "net = layers.Activation('relu')(net)\n",
    "net = layers.Conv2D(64, (3, 3), padding='SAME')(net)\n",
    "net = layers.Activation('relu')(net)\n",
    "net = layers.MaxPooling2D(pool_size=(2, 2))(net)\n",
    "net = layers.Dropout(dropout_rate)(net)\n",
    "\n",
    "net = layers.Flatten()(net)\n",
    "net = layers.Dense(512)(net)\n",
    "net = layers.Activation('relu')(net)\n",
    "net = layers.Dropout(dropout_rate)(net)\n",
    "net = layers.Dense(num_classes)(net)\n",
    "net = layers.Activation('softmax')(net)\n",
    "\n",
    "model = tf.keras.Model(inputs=inputs, outputs=net, name='Basic_CNN')"
   ]
  },
  {
   "cell_type": "code",
   "execution_count": 4,
   "metadata": {},
   "outputs": [],
   "source": [
    "# Model is the full model w/o custom layers\n",
    "model.compile(optimizer=tf.keras.optimizers.Adam(learning_rate),  # Optimization\n",
    "              loss='sparse_categorical_crossentropy',  # Loss Function \n",
    "              metrics=['accuracy'])  # Metrics / Accuracy"
   ]
  },
  {
   "cell_type": "markdown",
   "metadata": {},
   "source": [
    "# Data Preprocess"
   ]
  },
  {
   "cell_type": "code",
   "execution_count": 5,
   "metadata": {},
   "outputs": [],
   "source": [
    "train_paths = glob('../dataset/cifar/train/*.png')[:1000]\n",
    "test_paths = glob('../dataset/cifar/test/*.png')[:100]"
   ]
  },
  {
   "cell_type": "code",
   "execution_count": 6,
   "metadata": {},
   "outputs": [],
   "source": [
    "def get_class_name(path):\n",
    "    return path.split('_')[-1].replace('.png', '')"
   ]
  },
  {
   "cell_type": "code",
   "execution_count": 7,
   "metadata": {},
   "outputs": [],
   "source": [
    "train_labels = [get_class_name(path) for path in train_paths]\n",
    "class_names = np.unique(train_labels)"
   ]
  },
  {
   "cell_type": "code",
   "execution_count": 8,
   "metadata": {},
   "outputs": [],
   "source": [
    "def get_label(path):\n",
    "    fname = tf.strings.split(path, '_')[-1]\n",
    "    lbl_name = tf.strings.regex_replace(fname, '.png', '')\n",
    "    onehot = tf.cast(lbl_name == class_names, tf.uint8)\n",
    "    return tf.argmax(onehot)  # 이번에는 onehot이 아닌 label 번호로"
   ]
  },
  {
   "cell_type": "code",
   "execution_count": 9,
   "metadata": {},
   "outputs": [],
   "source": [
    "def load_image_label(path):\n",
    "    gfile = tf.io.read_file(path)\n",
    "    image = tf.io.decode_image(gfile)\n",
    "    image = tf.cast(image, tf.float32) / 255.  # rescale\n",
    "    \n",
    "    label = get_label(path)\n",
    "    return image, label"
   ]
  },
  {
   "cell_type": "code",
   "execution_count": 10,
   "metadata": {},
   "outputs": [],
   "source": [
    "def image_preprocess(image, label):\n",
    "    image = tf.image.random_flip_up_down(image)\n",
    "    image = tf.image.random_flip_left_right(image)\n",
    "    return image, label"
   ]
  },
  {
   "cell_type": "code",
   "execution_count": 11,
   "metadata": {},
   "outputs": [],
   "source": [
    "AUTOTUNE = tf.data.experimental.AUTOTUNE"
   ]
  },
  {
   "cell_type": "code",
   "execution_count": 12,
   "metadata": {
    "scrolled": false
   },
   "outputs": [],
   "source": [
    "train_dataset = tf.data.Dataset.from_tensor_slices(train_paths)\n",
    "train_dataset = train_dataset.map(load_image_label, num_parallel_calls=AUTOTUNE)\n",
    "train_dataset = train_dataset.map(image_preprocess, num_parallel_calls=AUTOTUNE)\n",
    "train_dataset = train_dataset.batch(batch_size)\n",
    "train_dataset = train_dataset.shuffle(buffer_size=len(train_paths))\n",
    "train_dataset = train_dataset.repeat()"
   ]
  },
  {
   "cell_type": "code",
   "execution_count": 13,
   "metadata": {},
   "outputs": [],
   "source": [
    "test_dataset = tf.data.Dataset.from_tensor_slices(test_paths)\n",
    "test_dataset = test_dataset.map(load_image_label, num_parallel_calls=AUTOTUNE)\n",
    "test_dataset = test_dataset.batch(batch_size)\n",
    "test_dataset = test_dataset.repeat()"
   ]
  },
  {
   "cell_type": "markdown",
   "metadata": {},
   "source": [
    "## Training"
   ]
  },
  {
   "cell_type": "markdown",
   "metadata": {},
   "source": [
    "http://localhost:6006"
   ]
  },
  {
   "cell_type": "code",
   "execution_count": 14,
   "metadata": {},
   "outputs": [
    {
     "name": "stderr",
     "output_type": "stream",
     "text": [
      "C:\\Users\\jumin\\anaconda3\\envs\\tensorflow\\lib\\site-packages\\tensorflow\\python\\keras\\engine\\training.py:1940: UserWarning: `Model.fit_generator` is deprecated and will be removed in a future version. Please use `Model.fit`, which supports generators.\n",
      "  warnings.warn('`Model.fit_generator` is deprecated and '\n"
     ]
    },
    {
     "name": "stdout",
     "output_type": "stream",
     "text": [
      "Epoch 1/100\n",
      "31/31 [==============================] - 8s 175ms/step - loss: 2.3145 - accuracy: 0.1043 - val_loss: 2.2907 - val_accuracy: 0.0729\n",
      "Epoch 2/100\n",
      "31/31 [==============================] - 5s 166ms/step - loss: 2.2940 - accuracy: 0.1322 - val_loss: 2.2850 - val_accuracy: 0.0625\n",
      "Epoch 3/100\n",
      "31/31 [==============================] - 5s 155ms/step - loss: 2.2272 - accuracy: 0.1581 - val_loss: 2.0969 - val_accuracy: 0.2917\n",
      "Epoch 4/100\n",
      "31/31 [==============================] - 5s 162ms/step - loss: 2.1672 - accuracy: 0.1932 - val_loss: 2.1068 - val_accuracy: 0.2188\n",
      "Epoch 5/100\n",
      "31/31 [==============================] - 5s 147ms/step - loss: 2.0907 - accuracy: 0.2345 - val_loss: 2.1008 - val_accuracy: 0.2604\n",
      "Epoch 6/100\n",
      "31/31 [==============================] - 5s 157ms/step - loss: 2.0964 - accuracy: 0.2097 - val_loss: 2.0857 - val_accuracy: 0.1562\n",
      "Epoch 7/100\n",
      "31/31 [==============================] - 6s 182ms/step - loss: 1.9720 - accuracy: 0.2617 - val_loss: 2.0867 - val_accuracy: 0.2188\n",
      "Epoch 8/100\n",
      "31/31 [==============================] - 4s 141ms/step - loss: 2.0090 - accuracy: 0.2500 - val_loss: 2.0480 - val_accuracy: 0.2188\n",
      "Epoch 9/100\n",
      "31/31 [==============================] - 5s 165ms/step - loss: 1.9615 - accuracy: 0.2676 - val_loss: 2.0638 - val_accuracy: 0.2396\n",
      "Epoch 10/100\n",
      "31/31 [==============================] - 5s 171ms/step - loss: 1.9496 - accuracy: 0.2881 - val_loss: 1.8626 - val_accuracy: 0.3854\n",
      "Epoch 11/100\n",
      "31/31 [==============================] - 5s 155ms/step - loss: 1.8588 - accuracy: 0.3171 - val_loss: 1.8425 - val_accuracy: 0.3229\n",
      "Epoch 12/100\n",
      "31/31 [==============================] - 4s 138ms/step - loss: 1.8255 - accuracy: 0.3264 - val_loss: 1.8567 - val_accuracy: 0.4062\n",
      "Epoch 13/100\n",
      "31/31 [==============================] - 5s 157ms/step - loss: 1.8397 - accuracy: 0.2965 - val_loss: 1.8163 - val_accuracy: 0.3958\n",
      "Epoch 14/100\n",
      "31/31 [==============================] - 5s 148ms/step - loss: 1.7237 - accuracy: 0.3599 - val_loss: 1.7491 - val_accuracy: 0.5000\n",
      "Epoch 15/100\n",
      "31/31 [==============================] - 5s 175ms/step - loss: 1.7957 - accuracy: 0.3378 - val_loss: 1.7264 - val_accuracy: 0.4375\n",
      "Epoch 16/100\n",
      "31/31 [==============================] - 7s 216ms/step - loss: 1.6879 - accuracy: 0.3623 - val_loss: 1.6905 - val_accuracy: 0.4271\n",
      "Epoch 17/100\n",
      "31/31 [==============================] - 6s 204ms/step - loss: 1.7305 - accuracy: 0.3636 - val_loss: 1.6947 - val_accuracy: 0.4271\n",
      "Epoch 18/100\n",
      "31/31 [==============================] - 6s 188ms/step - loss: 1.6888 - accuracy: 0.3812 - val_loss: 1.6437 - val_accuracy: 0.4479\n",
      "Epoch 19/100\n",
      "31/31 [==============================] - 5s 167ms/step - loss: 1.6380 - accuracy: 0.3821 - val_loss: 1.6387 - val_accuracy: 0.4062\n",
      "Epoch 20/100\n",
      "31/31 [==============================] - ETA: 0s - loss: 1.6028 - accuracy: 0.44 - 5s 151ms/step - loss: 1.6028 - accuracy: 0.4492 - val_loss: 1.6279 - val_accuracy: 0.4479\n",
      "Epoch 21/100\n",
      "31/31 [==============================] - 5s 170ms/step - loss: 1.5668 - accuracy: 0.4535 - val_loss: 1.6335 - val_accuracy: 0.4062\n",
      "Epoch 22/100\n",
      "31/31 [==============================] - 5s 147ms/step - loss: 1.6024 - accuracy: 0.3901 - val_loss: 1.6652 - val_accuracy: 0.4583\n",
      "Epoch 23/100\n",
      "31/31 [==============================] - 4s 142ms/step - loss: 1.5233 - accuracy: 0.4339 - val_loss: 1.5915 - val_accuracy: 0.5000\n",
      "Epoch 24/100\n",
      "31/31 [==============================] - 5s 146ms/step - loss: 1.5527 - accuracy: 0.4407 - val_loss: 1.5544 - val_accuracy: 0.5104\n",
      "Epoch 25/100\n",
      "31/31 [==============================] - 5s 172ms/step - loss: 1.4946 - accuracy: 0.4667 - val_loss: 1.6743 - val_accuracy: 0.4271\n",
      "Epoch 26/100\n",
      "31/31 [==============================] - 5s 176ms/step - loss: 1.4322 - accuracy: 0.4793 - val_loss: 1.6242 - val_accuracy: 0.4688\n",
      "Epoch 27/100\n",
      "31/31 [==============================] - 5s 170ms/step - loss: 1.4509 - accuracy: 0.4959 - val_loss: 1.5417 - val_accuracy: 0.4896\n",
      "Epoch 28/100\n",
      "31/31 [==============================] - 4s 140ms/step - loss: 1.3684 - accuracy: 0.5134 - val_loss: 1.6907 - val_accuracy: 0.4062\n",
      "Epoch 29/100\n",
      "31/31 [==============================] - 5s 151ms/step - loss: 1.3205 - accuracy: 0.5072 - val_loss: 1.5751 - val_accuracy: 0.5000\n",
      "Epoch 30/100\n",
      "31/31 [==============================] - 4s 142ms/step - loss: 1.3854 - accuracy: 0.5031 - val_loss: 1.5977 - val_accuracy: 0.4896\n",
      "Epoch 31/100\n",
      "31/31 [==============================] - 4s 144ms/step - loss: 1.3406 - accuracy: 0.5372 - val_loss: 1.6101 - val_accuracy: 0.4479\n",
      "Epoch 32/100\n",
      "31/31 [==============================] - 4s 145ms/step - loss: 1.3744 - accuracy: 0.4886 - val_loss: 1.6916 - val_accuracy: 0.4375\n",
      "Epoch 33/100\n",
      "31/31 [==============================] - 4s 137ms/step - loss: 1.2798 - accuracy: 0.5320 - val_loss: 1.5656 - val_accuracy: 0.4896\n",
      "Epoch 34/100\n",
      "31/31 [==============================] - 4s 145ms/step - loss: 1.2847 - accuracy: 0.5413 - val_loss: 1.5198 - val_accuracy: 0.4896\n",
      "Epoch 35/100\n",
      "31/31 [==============================] - 4s 136ms/step - loss: 1.2174 - accuracy: 0.5537 - val_loss: 1.5731 - val_accuracy: 0.5104\n",
      "Epoch 36/100\n",
      "31/31 [==============================] - 5s 148ms/step - loss: 1.2033 - accuracy: 0.5746 - val_loss: 1.5974 - val_accuracy: 0.4688\n",
      "Epoch 37/100\n",
      "31/31 [==============================] - 4s 142ms/step - loss: 1.2201 - accuracy: 0.5699 - val_loss: 1.6686 - val_accuracy: 0.4583\n",
      "Epoch 38/100\n",
      "31/31 [==============================] - 6s 209ms/step - loss: 1.1238 - accuracy: 0.5785 - val_loss: 1.6173 - val_accuracy: 0.4896\n",
      "Epoch 39/100\n",
      "31/31 [==============================] - 6s 185ms/step - loss: 1.1744 - accuracy: 0.5827 - val_loss: 1.6204 - val_accuracy: 0.5625\n",
      "Epoch 40/100\n",
      "31/31 [==============================] - 6s 181ms/step - loss: 1.1590 - accuracy: 0.5805 - val_loss: 1.6042 - val_accuracy: 0.5104\n",
      "Epoch 41/100\n",
      "31/31 [==============================] - 4s 142ms/step - loss: 1.0644 - accuracy: 0.6109 - val_loss: 1.5962 - val_accuracy: 0.5104\n",
      "Epoch 42/100\n",
      "31/31 [==============================] - 5s 147ms/step - loss: 1.1161 - accuracy: 0.6006 - val_loss: 1.6718 - val_accuracy: 0.4688\n",
      "Epoch 43/100\n",
      "31/31 [==============================] - 5s 160ms/step - loss: 1.0725 - accuracy: 0.6179 - val_loss: 1.5892 - val_accuracy: 0.5312\n",
      "Epoch 44/100\n",
      "31/31 [==============================] - 5s 153ms/step - loss: 1.0428 - accuracy: 0.6165 - val_loss: 1.6747 - val_accuracy: 0.4479\n",
      "Epoch 45/100\n",
      "31/31 [==============================] - 4s 141ms/step - loss: 1.0043 - accuracy: 0.6603 - val_loss: 1.6845 - val_accuracy: 0.4688\n",
      "Epoch 46/100\n",
      "31/31 [==============================] - 4s 137ms/step - loss: 1.0008 - accuracy: 0.6367 - val_loss: 1.7695 - val_accuracy: 0.4167\n",
      "Epoch 47/100\n",
      "31/31 [==============================] - 4s 138ms/step - loss: 1.0364 - accuracy: 0.6281 - val_loss: 1.7304 - val_accuracy: 0.4688\n",
      "Epoch 48/100\n",
      "31/31 [==============================] - 4s 136ms/step - loss: 0.9735 - accuracy: 0.6457 - val_loss: 1.6412 - val_accuracy: 0.5521\n",
      "Epoch 49/100\n",
      "31/31 [==============================] - 4s 139ms/step - loss: 0.9064 - accuracy: 0.6915 - val_loss: 1.7539 - val_accuracy: 0.4792\n",
      "Epoch 50/100\n",
      "31/31 [==============================] - 4s 136ms/step - loss: 0.9128 - accuracy: 0.6963 - val_loss: 1.8266 - val_accuracy: 0.4583\n",
      "Epoch 51/100\n",
      "31/31 [==============================] - 4s 133ms/step - loss: 0.9517 - accuracy: 0.6568 - val_loss: 1.6533 - val_accuracy: 0.5417\n",
      "Epoch 52/100\n",
      "31/31 [==============================] - 4s 138ms/step - loss: 0.9281 - accuracy: 0.6804 - val_loss: 1.7078 - val_accuracy: 0.5000\n",
      "Epoch 53/100\n",
      "31/31 [==============================] - 4s 137ms/step - loss: 0.9046 - accuracy: 0.6746 - val_loss: 1.9750 - val_accuracy: 0.3958\n",
      "Epoch 54/100\n",
      "31/31 [==============================] - 4s 138ms/step - loss: 0.8773 - accuracy: 0.6911 - val_loss: 1.7042 - val_accuracy: 0.5000\n",
      "Epoch 55/100\n",
      "31/31 [==============================] - 4s 137ms/step - loss: 0.8436 - accuracy: 0.6963 - val_loss: 1.7479 - val_accuracy: 0.4583\n",
      "Epoch 56/100\n",
      "31/31 [==============================] - 4s 136ms/step - loss: 0.8217 - accuracy: 0.6932 - val_loss: 1.8470 - val_accuracy: 0.4896\n",
      "Epoch 57/100\n",
      "31/31 [==============================] - 4s 140ms/step - loss: 0.8039 - accuracy: 0.6994 - val_loss: 1.7989 - val_accuracy: 0.4688\n"
     ]
    },
    {
     "name": "stdout",
     "output_type": "stream",
     "text": [
      "Epoch 58/100\n",
      "31/31 [==============================] - 4s 137ms/step - loss: 0.7848 - accuracy: 0.7180 - val_loss: 1.6795 - val_accuracy: 0.5417\n",
      "Epoch 59/100\n",
      "31/31 [==============================] - 4s 134ms/step - loss: 0.8190 - accuracy: 0.7066 - val_loss: 1.6953 - val_accuracy: 0.5417\n",
      "Epoch 60/100\n",
      "31/31 [==============================] - 4s 138ms/step - loss: 0.7919 - accuracy: 0.7288 - val_loss: 1.6707 - val_accuracy: 0.5104\n",
      "Epoch 61/100\n",
      "31/31 [==============================] - 4s 133ms/step - loss: 0.7936 - accuracy: 0.7150 - val_loss: 1.7304 - val_accuracy: 0.5521\n",
      "Epoch 62/100\n",
      "31/31 [==============================] - 4s 139ms/step - loss: 0.8218 - accuracy: 0.7198 - val_loss: 1.8365 - val_accuracy: 0.5104\n",
      "Epoch 63/100\n",
      "31/31 [==============================] - 4s 137ms/step - loss: 0.7300 - accuracy: 0.7438 - val_loss: 1.8336 - val_accuracy: 0.5208\n",
      "Epoch 64/100\n",
      "31/31 [==============================] - 4s 137ms/step - loss: 0.6871 - accuracy: 0.7645 - val_loss: 1.8457 - val_accuracy: 0.5208\n",
      "Epoch 65/100\n",
      "31/31 [==============================] - 4s 137ms/step - loss: 0.7311 - accuracy: 0.7490 - val_loss: 1.9321 - val_accuracy: 0.5000\n",
      "Epoch 66/100\n",
      "31/31 [==============================] - 4s 136ms/step - loss: 0.6894 - accuracy: 0.7552 - val_loss: 1.8588 - val_accuracy: 0.4583\n",
      "Epoch 67/100\n",
      "31/31 [==============================] - 4s 138ms/step - loss: 0.6934 - accuracy: 0.7624 - val_loss: 1.8096 - val_accuracy: 0.4896\n",
      "Epoch 68/100\n",
      "31/31 [==============================] - 4s 137ms/step - loss: 0.6728 - accuracy: 0.7727 - val_loss: 1.8301 - val_accuracy: 0.4583\n",
      "Epoch 69/100\n",
      "31/31 [==============================] - 4s 139ms/step - loss: 0.6777 - accuracy: 0.7450 - val_loss: 1.8366 - val_accuracy: 0.4896\n",
      "Epoch 70/100\n",
      "31/31 [==============================] - 4s 136ms/step - loss: 0.5482 - accuracy: 0.8213 - val_loss: 2.1281 - val_accuracy: 0.5000\n",
      "Epoch 71/100\n",
      "31/31 [==============================] - 4s 136ms/step - loss: 0.6006 - accuracy: 0.7717 - val_loss: 2.2253 - val_accuracy: 0.5000\n",
      "Epoch 72/100\n",
      "31/31 [==============================] - 4s 135ms/step - loss: 0.6415 - accuracy: 0.7903 - val_loss: 2.0198 - val_accuracy: 0.4583\n",
      "Epoch 73/100\n",
      "31/31 [==============================] - 4s 136ms/step - loss: 0.7179 - accuracy: 0.7278 - val_loss: 1.9715 - val_accuracy: 0.4167\n",
      "Epoch 74/100\n",
      "31/31 [==============================] - 4s 136ms/step - loss: 0.5250 - accuracy: 0.7965 - val_loss: 2.0501 - val_accuracy: 0.5104\n",
      "Epoch 75/100\n",
      "31/31 [==============================] - 4s 138ms/step - loss: 0.5880 - accuracy: 0.7671 - val_loss: 2.2359 - val_accuracy: 0.4479\n",
      "Epoch 76/100\n",
      "31/31 [==============================] - 4s 134ms/step - loss: 0.5745 - accuracy: 0.7881 - val_loss: 1.9821 - val_accuracy: 0.4896\n",
      "Epoch 77/100\n",
      "31/31 [==============================] - 5s 149ms/step - loss: 0.5984 - accuracy: 0.7820 - val_loss: 2.0677 - val_accuracy: 0.4896\n",
      "Epoch 78/100\n",
      "31/31 [==============================] - 5s 154ms/step - loss: 0.5421 - accuracy: 0.8048 - val_loss: 2.0888 - val_accuracy: 0.4479\n",
      "Epoch 79/100\n",
      "31/31 [==============================] - 6s 198ms/step - loss: 0.5769 - accuracy: 0.7996 - val_loss: 2.0202 - val_accuracy: 0.4271\n",
      "Epoch 80/100\n",
      "31/31 [==============================] - 6s 208ms/step - loss: 0.5501 - accuracy: 0.8140 - val_loss: 2.0089 - val_accuracy: 0.5312\n",
      "Epoch 81/100\n",
      "31/31 [==============================] - 6s 188ms/step - loss: 0.5496 - accuracy: 0.8115 - val_loss: 2.0193 - val_accuracy: 0.5000\n",
      "Epoch 82/100\n",
      "31/31 [==============================] - 6s 179ms/step - loss: 0.5175 - accuracy: 0.8263 - val_loss: 2.0797 - val_accuracy: 0.5000\n",
      "Epoch 83/100\n",
      "31/31 [==============================] - 5s 169ms/step - loss: 0.5631 - accuracy: 0.8034 - val_loss: 1.9157 - val_accuracy: 0.5417\n",
      "Epoch 84/100\n",
      "31/31 [==============================] - 5s 173ms/step - loss: 0.5450 - accuracy: 0.8051 - val_loss: 2.0160 - val_accuracy: 0.4583\n",
      "Epoch 85/100\n",
      "31/31 [==============================] - 5s 157ms/step - loss: 0.5223 - accuracy: 0.8196 - val_loss: 2.0842 - val_accuracy: 0.4375\n",
      "Epoch 86/100\n",
      "31/31 [==============================] - 5s 153ms/step - loss: 0.5410 - accuracy: 0.8099 - val_loss: 2.0732 - val_accuracy: 0.4792\n",
      "Epoch 87/100\n",
      "31/31 [==============================] - 5s 156ms/step - loss: 0.5282 - accuracy: 0.8146 - val_loss: 2.2488 - val_accuracy: 0.4792\n",
      "Epoch 88/100\n",
      "31/31 [==============================] - 5s 152ms/step - loss: 0.5355 - accuracy: 0.8130 - val_loss: 1.9380 - val_accuracy: 0.5104\n",
      "Epoch 89/100\n",
      "31/31 [==============================] - 5s 155ms/step - loss: 0.5098 - accuracy: 0.8145 - val_loss: 2.1661 - val_accuracy: 0.4583\n",
      "Epoch 90/100\n",
      "31/31 [==============================] - 4s 141ms/step - loss: 0.4511 - accuracy: 0.8481 - val_loss: 2.1172 - val_accuracy: 0.5208\n",
      "Epoch 91/100\n",
      "31/31 [==============================] - 4s 142ms/step - loss: 0.4904 - accuracy: 0.8223 - val_loss: 2.2778 - val_accuracy: 0.4271\n",
      "Epoch 92/100\n",
      "31/31 [==============================] - 5s 147ms/step - loss: 0.5136 - accuracy: 0.8275 - val_loss: 1.9211 - val_accuracy: 0.4688\n",
      "Epoch 93/100\n",
      "31/31 [==============================] - 4s 142ms/step - loss: 0.4452 - accuracy: 0.8502 - val_loss: 2.1320 - val_accuracy: 0.5000\n",
      "Epoch 94/100\n",
      "31/31 [==============================] - 4s 139ms/step - loss: 0.4436 - accuracy: 0.8440 - val_loss: 1.8771 - val_accuracy: 0.5312\n",
      "Epoch 95/100\n",
      "31/31 [==============================] - 4s 142ms/step - loss: 0.4651 - accuracy: 0.8295 - val_loss: 1.9175 - val_accuracy: 0.4479\n",
      "Epoch 96/100\n",
      "31/31 [==============================] - 5s 148ms/step - loss: 0.4224 - accuracy: 0.8647 - val_loss: 2.2468 - val_accuracy: 0.4896\n",
      "Epoch 97/100\n",
      "31/31 [==============================] - 4s 139ms/step - loss: 0.5494 - accuracy: 0.8120 - val_loss: 2.0154 - val_accuracy: 0.5000\n",
      "Epoch 98/100\n",
      "31/31 [==============================] - 4s 144ms/step - loss: 0.4114 - accuracy: 0.8595 - val_loss: 2.3597 - val_accuracy: 0.4792\n",
      "Epoch 99/100\n",
      "31/31 [==============================] - 4s 142ms/step - loss: 0.4443 - accuracy: 0.8387 - val_loss: 2.1415 - val_accuracy: 0.4792\n",
      "Epoch 100/100\n",
      "31/31 [==============================] - 4s 138ms/step - loss: 0.4345 - accuracy: 0.8506 - val_loss: 2.2233 - val_accuracy: 0.4792\n"
     ]
    }
   ],
   "source": [
    "steps_per_epoch = len(train_paths) // batch_size\n",
    "validation_steps = len(test_paths) // batch_size\n",
    "\n",
    "history = model.fit_generator(\n",
    "    train_dataset,\n",
    "    steps_per_epoch=steps_per_epoch,\n",
    "    validation_data=test_dataset,\n",
    "    validation_steps=validation_steps,\n",
    "    epochs=num_epochs\n",
    ")"
   ]
  },
  {
   "cell_type": "markdown",
   "metadata": {},
   "source": [
    "# Saving Model\n",
    "- 전부 저장"
   ]
  },
  {
   "cell_type": "code",
   "execution_count": 16,
   "metadata": {},
   "outputs": [],
   "source": [
    "save_path = 'my_model.h5'"
   ]
  },
  {
   "cell_type": "code",
   "execution_count": 18,
   "metadata": {},
   "outputs": [],
   "source": [
    "model.save(save_path, include_optimizer=True)"
   ]
  },
  {
   "cell_type": "markdown",
   "metadata": {},
   "source": [
    "- 모델 불러오기"
   ]
  },
  {
   "cell_type": "code",
   "execution_count": 20,
   "metadata": {},
   "outputs": [],
   "source": [
    "load_model = tf.keras.models.load_model('my_model.h5')"
   ]
  },
  {
   "cell_type": "markdown",
   "metadata": {},
   "source": [
    "# Saving Model \n",
    "- weight만 저장함\n",
    "- 후에, transfer learning 할 때 유용"
   ]
  },
  {
   "cell_type": "code",
   "execution_count": 22,
   "metadata": {},
   "outputs": [],
   "source": [
    "model.save_weights(\"model_weights.h5\")"
   ]
  },
  {
   "cell_type": "markdown",
   "metadata": {},
   "source": [
    "- model archtecture만 저장 및 불러오기"
   ]
  },
  {
   "cell_type": "code",
   "execution_count": 21,
   "metadata": {},
   "outputs": [],
   "source": [
    "with open(\"model_architecture.json\", \"w\") as f:\n",
    "    f.write(model.to_json())"
   ]
  },
  {
   "cell_type": "code",
   "execution_count": 27,
   "metadata": {},
   "outputs": [],
   "source": [
    "from tensorflow.keras.models import model_from_json"
   ]
  },
  {
   "cell_type": "code",
   "execution_count": 28,
   "metadata": {},
   "outputs": [],
   "source": [
    "with open(\"model_architecture.json\", 'r') as f :\n",
    "    model = model_from_json(f.read())"
   ]
  },
  {
   "cell_type": "markdown",
   "metadata": {},
   "source": [
    "- weight 가져오기: h5 파일 또는 checkpoints"
   ]
  },
  {
   "cell_type": "code",
   "execution_count": 30,
   "metadata": {},
   "outputs": [],
   "source": [
    "model.load_weights(\"model_weights.h5\")"
   ]
  },
  {
   "cell_type": "code",
   "execution_count": null,
   "metadata": {},
   "outputs": [],
   "source": [
    "model.load_weights('checkpoint')  #checkpoint : checkpoint가 담긴 파일"
   ]
  },
  {
   "cell_type": "markdown",
   "metadata": {},
   "source": [
    "# model.h5 들여다보기"
   ]
  },
  {
   "cell_type": "code",
   "execution_count": 31,
   "metadata": {},
   "outputs": [],
   "source": [
    "import h5py"
   ]
  },
  {
   "cell_type": "code",
   "execution_count": 33,
   "metadata": {},
   "outputs": [],
   "source": [
    "model_file = h5py.File(\"my_model.h5\", 'r+')"
   ]
  },
  {
   "cell_type": "code",
   "execution_count": 35,
   "metadata": {},
   "outputs": [
    {
     "data": {
      "text/plain": [
       "<KeysViewHDF5 ['activation', 'activation_1', 'activation_2', 'activation_3', 'activation_4', 'activation_5', 'conv2d', 'conv2d_1', 'conv2d_2', 'conv2d_3', 'dense', 'dense_1', 'dropout', 'dropout_1', 'dropout_2', 'flatten', 'input_1', 'max_pooling2d', 'max_pooling2d_1']>"
      ]
     },
     "execution_count": 35,
     "metadata": {},
     "output_type": "execute_result"
    }
   ],
   "source": [
    "model_file['model_weights'].keys()"
   ]
  },
  {
   "cell_type": "code",
   "execution_count": 36,
   "metadata": {},
   "outputs": [
    {
     "data": {
      "text/plain": [
       "<KeysViewHDF5 ['bias:0', 'kernel:0']>"
      ]
     },
     "execution_count": 36,
     "metadata": {},
     "output_type": "execute_result"
    }
   ],
   "source": [
    "model_file['model_weights']['conv2d']['conv2d'].keys()"
   ]
  },
  {
   "cell_type": "code",
   "execution_count": 40,
   "metadata": {},
   "outputs": [],
   "source": [
    "weight = model_file['model_weights']['conv2d']['conv2d']['kernel:0']"
   ]
  },
  {
   "cell_type": "code",
   "execution_count": 41,
   "metadata": {},
   "outputs": [
    {
     "data": {
      "text/plain": [
       "<HDF5 dataset \"kernel:0\": shape (3, 3, 3, 32), type \"<f4\">"
      ]
     },
     "execution_count": 41,
     "metadata": {},
     "output_type": "execute_result"
    }
   ],
   "source": [
    "weight"
   ]
  }
 ],
 "metadata": {
  "kernelspec": {
   "display_name": "Python 3",
   "language": "python",
   "name": "python3"
  },
  "language_info": {
   "codemirror_mode": {
    "name": "ipython",
    "version": 3
   },
   "file_extension": ".py",
   "mimetype": "text/x-python",
   "name": "python",
   "nbconvert_exporter": "python",
   "pygments_lexer": "ipython3",
   "version": "3.8.10"
  }
 },
 "nbformat": 4,
 "nbformat_minor": 2
}
